{
 "cells": [
  {
   "cell_type": "markdown",
   "metadata": {},
   "source": [
    "\n",
    "### 4\n",
    "Generate N = 100 points from Gaussian distribution with mean 2 and standard deviation 2(those values are the ground truth)."
   ]
  },
  {
   "cell_type": "code",
   "execution_count": 2,
   "metadata": {},
   "outputs": [],
   "source": [
    "import numpy as np\n",
    "import matplotlib.pyplot as plt\n",
    "\n",
    "mu, sigma, N = 2, 2, 100\n",
    "D = np.random.normal(mu, sigma, N)"
   ]
  },
  {
   "cell_type": "markdown",
   "metadata": {},
   "source": [
    "**a.** Plot a histogram of D. What is the mean and standard deviation on this sample?"
   ]
  },
  {
   "cell_type": "code",
   "execution_count": 7,
   "metadata": {},
   "outputs": [
    {
     "name": "stdout",
     "output_type": "stream",
     "text": [
      "Mean = 2.00, standard deviation = 1.85\n"
     ]
    },
    {
     "data": {
      "image/png": "[encoded data removed]",
      "text/plain": [
       "<Figure size 432x288 with 1 Axes>"
      ]
     },
     "metadata": {
      "needs_background": "light"
     },
     "output_type": "display_data"
    }
   ],
   "source": [
    "plt.hist(D)\n",
    "print(\"Mean = {:.2f}, standard deviation = {:.2f}\".format(D.mean(), D.std()))"
   ]
  },
  {
   "cell_type": "markdown",
   "metadata": {},
   "source": [
    "**b.** Calculate the log-likelihood $P[D|\\mu,\\sigma]$ given \n",
    "(i) $\\mu = 1$, $\\sigma=2$, \n",
    "(ii)$\\mu = 1.5$, $\\sigma = 2$\n",
    "(iii) $\\mu = 2$, $\\sigma = 2$.\n",
    "Which of those results in the highest log-likelihood?\n"
   ]
  },
  {
   "cell_type": "code",
   "execution_count": 9,
   "metadata": {},
   "outputs": [
    {
     "name": "stdout",
     "output_type": "stream",
     "text": [
      "log-likelihood(λ = 1.00, σ = 2.00|D) = -216.42\n",
      "log-likelihood(λ = 1.50, σ = 2.00|D) = -207.10\n",
      "log-likelihood(λ = 2.00, σ = 2.00|D) = -204.03\n",
      "λ = 2.00 and σ = 2.00 result in the highest log-likelyhood.\n"
     ]
    }
   ],
   "source": [
    "def log_likelihood(D, mu, sigma):\n",
    "    ret = 0\n",
    "    for x in D:\n",
    "        ret = ret + np.log(1/(sigma*np.sqrt(2*np.pi))*np.exp(-(x-mu)**2/(2*sigma**2)))\n",
    "    return ret\n",
    "params = [(1, 2), (1.5, 2), (2, 2)]\n",
    "P = [log_likelihood(D, mu, sigma) for mu, sigma in params]\n",
    "for (mu, sigma), p in zip(params, P):\n",
    "    print(\"log-likelihood(\\u03BB = {:.2f}, \\u03C3 = {:.2f}|D) = {:.2f}\".format(mu, sigma, p))\n",
    "maxIdx = P.index(max(P))\n",
    "print(\"\\u03BB = {:.2f} and \\u03C3 = {:.2f} result in the highest log-likelihood.\".format(*params[maxIdx]))"
   ]
  },
  {
   "cell_type": "markdown",
   "metadata": {},
   "source": [
    "**c.** Find the maximum likelihood estimation of $\\mu,\\sigma$. How does this compareto the true parameters?"
   ]
  },
  {
   "cell_type": "code",
   "execution_count": 10,
   "metadata": {},
   "outputs": [
    {
     "name": "stdout",
     "output_type": "stream",
     "text": [
      "estimated λ = 2.00, estimated σ = 1.85.\n"
     ]
    }
   ],
   "source": [
    "def maximum_likelihood(D):\n",
    "    mu = np.mean(D)\n",
    "    sigma = np.sqrt(np.dot(D - mu, (D - mu).T) / D.size)\n",
    "    return (mu, sigma)\n",
    "print(\"Estimated \\u03BB = {:.2f}, estimated \\u03C3 = {:.2f}.\".format(*maximum_likelihood(D)))"
   ]
  },
  {
   "cell_type": "markdown",
   "metadata": {},
   "source": [
    "$\\lambda$ is the same the the true parameter while $\\sigma$ is 0.15 smaller than the ground truth."
   ]
  },
  {
   "cell_type": "markdown",
   "metadata": {},
   "source": [
    "**d.** Repeat the following procedure 200 times: \n",
    "\n",
    "(1) generate N = 100 points Gaussian distribution with mean 2 and standard deviation 2; \n",
    "\n",
    "(2) find the maximum likelihood estimates of μ,σ. \n",
    "\n",
    "Plot the histogram of those 50 outcomes. What is the average of the estimates over 50 experiments? Now, repeat the same procedure, but generate N = points in each iteration. How do the results change? What is the explanation for this (you can search the Web to answer)?\n",
    "\n",
    "\n",
    "**The value for the second N is missing, I will use 1000. And I suppose the number 50 in `50 outcomes` is a typo, and 200 should be used here.**"
   ]
  },
  {
   "cell_type": "code",
   "execution_count": 15,
   "metadata": {},
   "outputs": [],
   "source": [
    "def exp4d(N, repeat, mu, sigma):\n",
    "    MuSigmaEstimation = [maximum_likelihood(np.random.normal(mu, sigma, N)) for _ in range(repeat)]\n",
    "    Mu, Sigma = ([x[0] for x in MuSigmaEstimation], [x[1] for x in MuSigmaEstimation])\n",
    "    print(\"The average estimation of \\u03BB = {:.2f}, the average estimation of \\u03C3 = {:.2f}.\".format(np.mean(Mu), np.mean(Sigma)))\n",
    "    return (Mu, Sigma)"
   ]
  },
  {
   "cell_type": "markdown",
   "metadata": {},
   "source": [
    "For **N = 100**:"
   ]
  },
  {
   "cell_type": "code",
   "execution_count": 17,
   "metadata": {},
   "outputs": [
    {
     "name": "stdout",
     "output_type": "stream",
     "text": [
      "The average estimation of λ = 2.00, the average estimation of σ = 1.99.\n"
     ]
    },
    {
     "data": {
      "text/plain": [
       "Text(0.5, 1.0, 'Histogram of $\\\\sigma$')"
      ]
     },
     "execution_count": 17,
     "metadata": {},
     "output_type": "execute_result"
    },
    {
     "data": {
      "image/png": "[encoded data removed]",
      "text/plain": [
       "<Figure size 432x288 with 1 Axes>"
      ]
     },
     "metadata": {
      "needs_background": "light"
     },
     "output_type": "display_data"
    },
    {
     "data": {
      "image/png": "[encoded data removed]",
      "text/plain": [
       "<Figure size 432x288 with 1 Axes>"
      ]
     },
     "metadata": {
      "needs_background": "light"
     },
     "output_type": "display_data"
    }
   ],
   "source": [
    "Mu, Sigma = exp4d(100, 200, 2, 2)\n",
    "plt.figure()\n",
    "plt.hist(Mu)\n",
    "plt.title(\"Histogram of $\\mu$\")\n",
    "plt.figure()\n",
    "plt.hist(Sigma)\n",
    "plt.title(\"Histogram of $\\sigma$\")"
   ]
  },
  {
   "cell_type": "markdown",
   "metadata": {},
   "source": [
    "For **N = 1000***:"
   ]
  },
  {
   "cell_type": "code",
   "execution_count": 18,
   "metadata": {},
   "outputs": [
    {
     "name": "stdout",
     "output_type": "stream",
     "text": [
      "The average estimation of λ = 2.00, the average estimation of σ = 2.00.\n"
     ]
    },
    {
     "data": {
      "text/plain": [
       "Text(0.5, 1.0, 'Histogram of $\\\\sigma$')"
      ]
     },
     "execution_count": 18,
     "metadata": {},
     "output_type": "execute_result"
    },
    {
     "data": {
      "image/png": "[encoded data removed]",
      "text/plain": [
       "<Figure size 432x288 with 1 Axes>"
      ]
     },
     "metadata": {
      "needs_background": "light"
     },
     "output_type": "display_data"
    },
    {
     "data": {
      "image/png": "[encoded data removed]",
      "text/plain": [
       "<Figure size 432x288 with 1 Axes>"
      ]
     },
     "metadata": {
      "needs_background": "light"
     },
     "output_type": "display_data"
    }
   ],
   "source": [
    "Mu, Sigma = exp4d(1000, 200, 2, 2)\n",
    "plt.figure()\n",
    "plt.hist(Mu)\n",
    "plt.title(\"Histogram of $\\mu$\")\n",
    "plt.figure()\n",
    "plt.hist(Sigma)\n",
    "plt.title(\"Histogram of $\\sigma$\")"
   ]
  },
  {
   "cell_type": "markdown",
   "metadata": {},
   "source": [
    "Comparing the experiment results for **N = 100** and **N = 1000**, the distribution of estimated $\\mu$ and $\\sigma$ are much closer to the ground truth when **N = 1000**. This is because when there are more samples, the maximum log-likelihood method can get more accurate estimation each time."
   ]
  }
 ],
 "metadata": {
  "kernelspec": {
   "display_name": "Python 3",
   "language": "python",
   "name": "python3"
  },
  "language_info": {
   "codemirror_mode": {
    "name": "ipython",
    "version": 3
   },
   "file_extension": ".py",
   "mimetype": "text/x-python",
   "name": "python",
   "nbconvert_exporter": "python",
   "pygments_lexer": "ipython3",
   "version": "3.8.5"
  }
 },
 "nbformat": 4,
 "nbformat_minor": 2
}
